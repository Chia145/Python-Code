{
 "metadata": {
  "language_info": {
   "codemirror_mode": {
    "name": "ipython",
    "version": 3
   },
   "file_extension": ".py",
   "mimetype": "text/x-python",
   "name": "python",
   "nbconvert_exporter": "python",
   "pygments_lexer": "ipython3",
   "version": "3.9.1-final"
  },
  "orig_nbformat": 2,
  "kernelspec": {
   "name": "python3",
   "display_name": "Python 3.9.1 64-bit",
   "metadata": {
    "interpreter": {
     "hash": "d561c1bf2e6851bd79211bead0d24080a821613026c569880630f742ae255c4b"
    }
   }
  }
 },
 "nbformat": 4,
 "nbformat_minor": 2,
 "cells": [
  {
   "cell_type": "code",
   "execution_count": 11,
   "metadata": {},
   "outputs": [
    {
     "output_type": "stream",
     "name": "stdout",
     "text": [
      "\"/Deleted\" is not found\nTotal folders deleted: 0\nTotal files deleted: 1\n"
     ]
    }
   ],
   "source": [
    "import os\n",
    "import shutil\n",
    "import time\n",
    "\n",
    "def Removefiles():\n",
    "\n",
    "\n",
    "\tdeletedFolders = 0\n",
    "\tdeletedFiles = 0\n",
    "\tpath = \"/Deleted\"\n",
    "\tdays = 30\n",
    "\tseconds = time.time() - (days * 24 * 60 * 60)\n",
    "\n",
    "\tif os.path.exists(path):\n",
    "\t\tfor root_folder, folders, files in os.walk(path):\n",
    "\t\t\tif seconds >= get_file_or_folder_age(root_folder):\n",
    "\t\t\t\tremove_folder(root_folder)\n",
    "\t\t\t\tdeletedFolders += 1 \n",
    "\t\t\t\tbreak\n",
    "\n",
    "\t\t\telse:\n",
    "\t\t\t\tfor folder in folders:\n",
    "\t\t\t\t\tfolder_path = os.path.join(root_folder, folder)\n",
    "\t\t\t\t\tif seconds >= get_file_or_folder_age(folder_path):\n",
    "\t\t\t\t\t\tremove_folder(folder_path)\n",
    "\t\t\t\t\t\tdeletedFolders += 1 \n",
    "\t\t\t\tfor file in files:\n",
    "\t\t\t\t\tfile_path = os.path.join(root_folder, file)\n",
    "\t\t\t\t\tif seconds >= get_file_or_folder_age(file_path):\n",
    "\t\t\t\t\t\tremove_file(file_path)\n",
    "\t\t\t\t\t\tdeletedFiles += 1\n",
    "\t\telse:\n",
    "\t\t\tif seconds >= get_file_or_folder_age(path):\n",
    "\t\t\t\tremove_file(path)\n",
    "\t\t\t\tdeletedFiles += 1 \n",
    "\telse:\n",
    "\t\tprint(f'\"{path}\" is not found')\n",
    "\t\tdeletedFiles += 1 \n",
    "\n",
    "\tprint(f\"Total folders deleted: {deletedFolders}\")\n",
    "\tprint(f\"Total files deleted: {deletedFiles}\")\n",
    "\n",
    "\n",
    "def remove_folder(path):\n",
    "\tif not shutil.rmtree(path):\n",
    "\t\tprint(f\"{path} is removed successfully\")\n",
    "\telse:\n",
    "\t\tprint(f\"Unable to delete the \"+path)\n",
    "\n",
    "\n",
    "\n",
    "def remove_file(path):\n",
    "\tif not os.remove(path):\n",
    "\t\tprint(f\"{path} is removed successfully\")\n",
    "\telse:\n",
    "\t\tprint(\"Unable to delete the \"+path)\n",
    "\n",
    "def get_file_or_folder_age(path):\n",
    "\n",
    "\tctime = os.stat(path).st_ctime\n",
    "\treturn ctime\n",
    "\n",
    "\n",
    "if __name__ == '__main__':\n",
    "\tRemovefiles()"
   ]
  },
  {
   "cell_type": "code",
   "execution_count": null,
   "metadata": {},
   "outputs": [],
   "source": []
  }
 ]
}