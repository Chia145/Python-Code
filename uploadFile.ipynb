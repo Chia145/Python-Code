{
 "metadata": {
  "language_info": {
   "codemirror_mode": {
    "name": "ipython",
    "version": 3
   },
   "file_extension": ".py",
   "mimetype": "text/x-python",
   "name": "python",
   "nbconvert_exporter": "python",
   "pygments_lexer": "ipython3",
   "version": "3.9.1-final"
  },
  "orig_nbformat": 2,
  "kernelspec": {
   "name": "python3",
   "display_name": "Python 3.9.1 64-bit",
   "metadata": {
    "interpreter": {
     "hash": "d561c1bf2e6851bd79211bead0d24080a821613026c569880630f742ae255c4b"
    }
   }
  }
 },
 "nbformat": 4,
 "nbformat_minor": 2,
 "cells": [
  {
   "cell_type": "code",
   "execution_count": 2,
   "metadata": {},
   "outputs": [
    {
     "output_type": "stream",
     "name": "stdout",
     "text": [
      "file has been moved to Dropbox\n"
     ]
    }
   ],
   "source": [
    "import os\n",
    "import dropbox\n",
    "from dropbox.files import WriteMode\n",
    "#\n",
    "class TransferData:\n",
    "    def __init__(self,access_token):\n",
    "        self.access_token =  access_token\n",
    "#\n",
    "    def upload_file(self, file_from, file_to):\n",
    "        dbx = dropbox.Dropbox(self.access_token)\n",
    "        for root, dirs, files in os.walk(file_from):\n",
    "            for filename in files:\n",
    "                local_path = os.path.join(root, filename)\n",
    "\n",
    "                relative_path = os.path.relpath(local_path, file_from)\n",
    "                dropbox_path = os.path.join(file_to, relative_path)\n",
    "                with open(local_path, 'rb') as f:\n",
    "                    dbx.files_upload(f.read(), dropbox_path, mode=WriteMode('overwrite'))\n",
    "\n",
    "def main():\n",
    "    token = 'sl.ApX8i4eM4XyyFKZv4Gv6cY_r6iPmzrfBRmN5jfpxOhKzATwK1JvaouplxAipsd-gaY0_wwDV3Op5ibjkq1p-4d4WMUMLiYRGJ9mKhZ_fRQ60iAZ3CtVF0lvxRFVxLgYkO70_NhLZAfw'\n",
    "    transferData = TransferData(token)\n",
    "\n",
    "    file_from = str(input(\"Enter the folder path to transfer : \"))\n",
    "    file_to = input(\"enter the full path to upload to dropbox: \")  \n",
    "\n",
    "    transferData.upload_file(file_from,file_to)\n",
    "    print(\"file has been moved to Dropbox\")\n",
    "\n",
    "main()"
   ]
  },
  {
   "cell_type": "code",
   "execution_count": null,
   "metadata": {},
   "outputs": [],
   "source": []
  }
 ]
}