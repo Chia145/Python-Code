{
 "metadata": {
  "language_info": {
   "codemirror_mode": {
    "name": "ipython",
    "version": 3
   },
   "file_extension": ".py",
   "mimetype": "text/x-python",
   "name": "python",
   "nbconvert_exporter": "python",
   "pygments_lexer": "ipython3",
   "version": "3.9.1-final"
  },
  "orig_nbformat": 2,
  "kernelspec": {
   "name": "python3",
   "display_name": "Python 3.9.1 64-bit",
   "metadata": {
    "interpreter": {
     "hash": "d561c1bf2e6851bd79211bead0d24080a821613026c569880630f742ae255c4b"
    }
   }
  }
 },
 "nbformat": 4,
 "nbformat_minor": 2,
 "cells": [
  {
   "cell_type": "code",
   "execution_count": 18,
   "metadata": {},
   "outputs": [],
   "source": [
    "def swapFileData():\n",
    "    file1 = input(\"Enter the first file's name: \")\n",
    "    file2 = input(\"Enter the sedond file's name: \")\n",
    "    \n",
    "    with open(file1, 'r') as a:\n",
    "        data_a = a.read()\n",
    "\n",
    "    with open(file2, 'r') as b:\n",
    "        data_b = b.read()\n",
    "\n",
    "    with open(file1, 'w') as a:\n",
    "        a.write(data_b)\n",
    "\n",
    "    with open(file2, 'w') as b:\n",
    "        b.write(data_a)\n",
    "\n",
    "swapFileData()\n",
    "\n"
   ]
  },
  {
   "cell_type": "code",
   "execution_count": null,
   "metadata": {},
   "outputs": [],
   "source": []
  }
 ]
}