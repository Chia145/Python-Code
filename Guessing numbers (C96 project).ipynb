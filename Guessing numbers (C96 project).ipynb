{
 "metadata": {
  "language_info": {
   "codemirror_mode": {
    "name": "ipython",
    "version": 3
   },
   "file_extension": ".py",
   "mimetype": "text/x-python",
   "name": "python",
   "nbconvert_exporter": "python",
   "pygments_lexer": "ipython3",
   "version": "3.9.1-final"
  },
  "orig_nbformat": 2,
  "kernelspec": {
   "name": "python3",
   "display_name": "Python 3.9.1 64-bit",
   "metadata": {
    "interpreter": {
     "hash": "d561c1bf2e6851bd79211bead0d24080a821613026c569880630f742ae255c4b"
    }
   }
  }
 },
 "nbformat": 4,
 "nbformat_minor": 2,
 "cells": [
  {
   "cell_type": "code",
   "execution_count": 3,
   "metadata": {},
   "outputs": [
    {
     "output_type": "stream",
     "name": "stdout",
     "text": [
      "Number guessing game\n",
      "Guess a number (between 1 and 9):\n",
      "That's too high: Guess a number lower than 9\n",
      "That's too low: Guess a number higher than 5\n",
      "That's too high: Guess a number lower than 7\n",
      "That's too high: Guess a number lower than 8\n",
      "Congratulation YOU WON!, the number was 6 ...\n"
     ]
    }
   ],
   "source": [
    "import random\n",
    "\n",
    "print(\"Number guessing game\")\n",
    "cnum = random.randint(1, 9)\n",
    "chances = 0\n",
    "print(\"Guess a number (between 1 and 9):\")\n",
    "\n",
    "while chances < 5:\n",
    "\n",
    "    pnum = int(input(\"Enter your guess: \"))\n",
    "\n",
    "    if pnum == cnum:\n",
    "        print(\"Congratulation YOU WON!, the number was\", cnum,\"...\")\n",
    "        break\n",
    "    elif pnum > cnum:\n",
    "        print(\"That's too high: Guess a number lower than\", pnum)\n",
    "    else:\n",
    "        print(\"That's too low: Guess a number higher than\", pnum)\n",
    "\n",
    "    chances += 1\n",
    "\n",
    "if not chances < 5:\n",
    "    print(\"YOU LOSE!!! The number is\", cnum)\n",
    "    "
   ]
  },
  {
   "cell_type": "code",
   "execution_count": null,
   "metadata": {},
   "outputs": [],
   "source": []
  }
 ]
}