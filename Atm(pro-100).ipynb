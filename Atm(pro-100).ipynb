{
 "metadata": {
  "language_info": {
   "codemirror_mode": {
    "name": "ipython",
    "version": 3
   },
   "file_extension": ".py",
   "mimetype": "text/x-python",
   "name": "python",
   "nbconvert_exporter": "python",
   "pygments_lexer": "ipython3",
   "version": "3.9.1-final"
  },
  "orig_nbformat": 2,
  "kernelspec": {
   "name": "python3",
   "display_name": "Python 3.9.1 64-bit",
   "metadata": {
    "interpreter": {
     "hash": "d561c1bf2e6851bd79211bead0d24080a821613026c569880630f742ae255c4b"
    }
   }
  }
 },
 "nbformat": 4,
 "nbformat_minor": 2,
 "cells": [
  {
   "cell_type": "code",
   "execution_count": null,
   "metadata": {},
   "outputs": [],
   "source": [
    "class atm:\n",
    "    def __init__(self, CashWithdrawl, BalanceEnquiry, Savings, Interests, CashDeposit):\n",
    "        self.CW = CashWithdrawl\n",
    "        self.BE = BalanceEnquiry\n",
    "        self.S = Savings\n",
    "        self.I = Interests\n",
    "        self.CD = CashDeposit\n",
    "\n",
    "    def Withdraw(self):\n",
    "        print(\"Withdraw money from your account:\", self.CW)\n",
    "\n",
    "    def Balance(self):\n",
    "        print(\"Know your Account Balance:\", self.BE)\n",
    "\n",
    "    def Savings(self):\n",
    "        print(\"Know your Account Savings:\", self.S)\n",
    "\n",
    "    def Interests(self):\n",
    "        print(\"Know your accont Interest:\",self.I)   \n",
    "\n",
    "    def Deposits(self):\n",
    "        print(\"Deposite money to your account:\", self.CD)     \n",
    "\n",
    "my_account = atm(5000, 1000000, 0, 0, 10000)\n",
    "my_account.Withdraw()\n",
    "my_account.Balance()\n",
    "my_account.Savings()\n",
    "my_account.Interests()\n",
    "my_account.Deposits()"
   ]
  },
  {
   "cell_type": "code",
   "execution_count": null,
   "metadata": {},
   "outputs": [],
   "source": []
  }
 ]
}